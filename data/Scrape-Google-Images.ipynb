{
 "cells": [
  {
   "cell_type": "code",
   "execution_count": 1,
   "metadata": {},
   "outputs": [
    {
     "name": "stdout",
     "output_type": "stream",
     "text": [
      "Requirement already satisfied: selenium in c:\\users\\vaidas\\anaconda3\\lib\\site-packages (3.141.0)\n",
      "Requirement already satisfied: urllib3 in c:\\users\\vaidas\\anaconda3\\lib\\site-packages (from selenium) (1.25.11)\n"
     ]
    }
   ],
   "source": [
    "!pip install selenium"
   ]
  },
  {
   "cell_type": "code",
   "execution_count": 2,
   "metadata": {},
   "outputs": [],
   "source": [
    "import csv\n",
    "import requests\n",
    "import hashlib\n",
    "import os\n",
    "import io\n",
    "from selenium import webdriver\n",
    "from selenium.common import exceptions\n",
    "import sys\n",
    "import time\n",
    "import selenium\n",
    "\n",
    "from PIL import Image\n",
    "import requests\n",
    "from io import BytesIO\n",
    "\n",
    "from webdriver_manager.chrome import ChromeDriverManager\n",
    "#webdriver = webdriver.Chrome(ChromeDriverManager().install())"
   ]
  },
  {
   "cell_type": "code",
   "execution_count": 3,
   "metadata": {
    "scrolled": true
   },
   "outputs": [
    {
     "name": "stdout",
     "output_type": "stream",
     "text": [
      "C:\\Users\\Vaidas\\anaconda3\\Lib\\site-packages\n"
     ]
    }
   ],
   "source": [
    "from distutils.sysconfig import get_python_lib\n",
    "print(get_python_lib())"
   ]
  },
  {
   "cell_type": "code",
   "execution_count": 5,
   "metadata": {},
   "outputs": [],
   "source": [
    "def search_and_download(search_term:str,target_path='./images',number_images=20):\n",
    "    target_folder = os.path.join(target_path,'_'.join(search_term.lower().split(' ')))\n",
    "\n",
    "    if not os.path.exists(target_folder):\n",
    "        os.makedirs(target_folder)\n",
    "\n",
    "    with webdriver.Chrome(ChromeDriverManager().install()) as wd:\n",
    "        res = fetch_image_urls(search_term, number_images, wd=wd, sleep_between_interactions=0.5)\n",
    "\n",
    "    '''with concurrent.futures.ThreadPoolExecutor() as head_executor:\n",
    "        futures_head = [head_executor.submit(persist_image,target_folder, elem)\n",
    "                   for elem in res]'''\n",
    "    for elem in res:\n",
    "        persist_image(target_folder,elem)"
   ]
  },
  {
   "cell_type": "code",
   "execution_count": 6,
   "metadata": {},
   "outputs": [],
   "source": [
    "def persist_image(folder_path:str,url:str):\n",
    "    try:\n",
    "        image_content = requests.get(url).content\n",
    "\n",
    "    except Exception as e:\n",
    "        print(f\"ERROR - Could not download {url} - {e}\")\n",
    "\n",
    "    try:\n",
    "        image_file = io.BytesIO(image_content)\n",
    "        image = Image.open(image_file).convert('RGB')\n",
    "        file_path = os.path.join(folder_path,hashlib.sha1(image_content).hexdigest()[:10] + '.jpg')\n",
    "        with open(file_path, 'wb') as f:\n",
    "            image.save(f, \"JPEG\", quality=85)\n",
    "        print(f\"SUCCESS - saved {url} - as {file_path}\")\n",
    "    except Exception as e:\n",
    "        print(f\"ERROR - Could not save {url} - {e}\")"
   ]
  },
  {
   "cell_type": "code",
   "execution_count": 7,
   "metadata": {},
   "outputs": [],
   "source": [
    "def fetch_image_urls(query:str, max_links_to_fetch:int, wd:webdriver, sleep_between_interactions:int=1):\n",
    "    def scroll_to_end(wd):\n",
    "        wd.execute_script(\"window.scrollTo(0, document.body.scrollHeight);\")\n",
    "        time.sleep(sleep_between_interactions)    \n",
    "    \n",
    "    # build the google query\n",
    "    search_url = \"https://www.google.com/search?safe=off&site=&tbm=isch&source=hp&q={q}&oq={q}&gs_l=img\"\n",
    "\n",
    "    # load the page\n",
    "    wd.get(search_url.format(q=query))\n",
    "\n",
    "    image_urls = set()\n",
    "    image_count = 0\n",
    "    results_start = 0\n",
    "    while image_count < max_links_to_fetch:\n",
    "        scroll_to_end(wd)\n",
    "\n",
    "        # get all image thumbnail results\n",
    "        thumbnail_results = wd.find_elements_by_css_selector(\"img.Q4LuWd\")\n",
    "        number_results = len(thumbnail_results)\n",
    "        \n",
    "        print(f\"Found: {number_results} search results. Extracting links from {results_start}:{number_results}\")\n",
    "        \n",
    "        for img in thumbnail_results[results_start:number_results]:\n",
    "            # try to click every thumbnail such that we can get the real image behind it\n",
    "            try:\n",
    "                img.click()\n",
    "                time.sleep(sleep_between_interactions)\n",
    "            except Exception:\n",
    "                continue\n",
    "\n",
    "            # extract image urls    \n",
    "            actual_images = wd.find_elements_by_css_selector('img.n3VNCb')\n",
    "            for actual_image in actual_images:\n",
    "                if actual_image.get_attribute('src') and 'http' in actual_image.get_attribute('src'):\n",
    "                    image_urls.add(actual_image.get_attribute('src'))\n",
    "\n",
    "            image_count = len(image_urls)\n",
    "\n",
    "            if len(image_urls) >= max_links_to_fetch:\n",
    "                print(f\"Found: {len(image_urls)} image links, done!\")\n",
    "                break\n",
    "        else:\n",
    "            print(\"Found:\", len(image_urls), \"image links, looking for more ...\")\n",
    "            time.sleep(5)\n",
    "            load_more_button = wd.find_element_by_css_selector(\".mye4qd\")\n",
    "            if load_more_button:\n",
    "                wd.execute_script(\"document.querySelector('.mye4qd').click();\")\n",
    "\n",
    "        # move the result startpoint further down\n",
    "        results_start = len(thumbnail_results)\n",
    "\n",
    "    return image_urls"
   ]
  },
  {
   "cell_type": "code",
   "execution_count": 9,
   "metadata": {},
   "outputs": [],
   "source": [
    "import pandas\n",
    "zuvys = pandas.read_csv(\"zuvys.csv\")"
   ]
  },
  {
   "cell_type": "code",
   "execution_count": 12,
   "metadata": {},
   "outputs": [
    {
     "data": {
      "text/plain": [
       "['Lynas',\n",
       " 'Srovinė aukšlė',\n",
       " 'Paprastoji aukšlė',\n",
       " 'Paprastoji saulažuvė',\n",
       " 'Paprastasis karšis',\n",
       " 'Paprastasis ūsorius',\n",
       " 'Paprastasis plakis',\n",
       " 'Paprastasis',\n",
       " 'Paprastasis skersasnukis',\n",
       " 'Paprastasis gružlys',\n",
       " 'Europinis šapalas',\n",
       " 'Paprastoji meknė',\n",
       " 'Paprastasis strepetys',\n",
       " 'Ežerinė rainė',\n",
       " 'Paprastoji rainė',\n",
       " 'Paprastoji kartuolė',\n",
       " 'Paprastoji raudė',\n",
       " 'Paprastoji kuoja',\n",
       " 'Salatis',\n",
       " 'Šližys',\n",
       " 'Paprastasis kirtiklis',\n",
       " 'Šiaurinis auksaspalvis kirtiklis',\n",
       " 'Paprastasis vijūnas',\n",
       " 'Paprastasis kūjagalvis',\n",
       " 'Raibapelekis kūjagalvis',\n",
       " 'Europinė lydeka',\n",
       " 'Devynspyglė dyglė',\n",
       " 'Vėgėlė',\n",
       " 'Seliava',\n",
       " 'Ežerinis sykas',\n",
       " 'Margasis upėtakis',\n",
       " 'Kiršlys',\n",
       " 'Paprastasis šamas',\n",
       " 'Ukraininė nėgė',\n",
       " 'Mažoji nėgė',\n",
       " 'Upinė nėgė']"
      ]
     },
     "execution_count": 12,
     "metadata": {},
     "output_type": "execute_result"
    }
   ],
   "source": [
    "flist = list(zuvys[\"zuvis\"])\n",
    "flist"
   ]
  },
  {
   "cell_type": "code",
   "execution_count": null,
   "metadata": {},
   "outputs": [
    {
     "name": "stderr",
     "output_type": "stream",
     "text": [
      "[WDM] - ====== WebDriver manager ======\n",
      "[WDM] - Current google-chrome version is 89.0.4389\n",
      "[WDM] - Get LATEST driver version for 89.0.4389\n"
     ]
    },
    {
     "name": "stdout",
     "output_type": "stream",
     "text": [
      "Lynas zuvis\n",
      "\n",
      "\n"
     ]
    },
    {
     "name": "stderr",
     "output_type": "stream",
     "text": [
      "[WDM] - Driver [C:\\Users\\Vaidas\\.wdm\\drivers\\chromedriver\\win32\\89.0.4389.23\\chromedriver.exe] found in cache\n"
     ]
    },
    {
     "name": "stdout",
     "output_type": "stream",
     "text": [
      "Found: 100 search results. Extracting links from 0:100\n",
      "Found: 45 image links, looking for more ...\n",
      "Found: 112 search results. Extracting links from 100:112\n",
      "Found: 47 image links, looking for more ...\n",
      "Found: 312 search results. Extracting links from 112:312\n",
      "Found: 90 image links, looking for more ...\n",
      "Found: 312 search results. Extracting links from 312:312\n",
      "Found: 90 image links, looking for more ...\n"
     ]
    }
   ],
   "source": [
    "for zuvis in flist:\n",
    "    zuvis = zuvis + \" zuvis\"\n",
    "    print(zuvis)\n",
    "    search_and_download(search_term=zuvis,target_path='./images',number_images=200)"
   ]
  },
  {
   "cell_type": "code",
   "execution_count": 13,
   "metadata": {},
   "outputs": [
    {
     "name": "stdout",
     "output_type": "stream",
     "text": [
      "Lynas\n",
      "Srovinė aukšlė\n",
      "Paprastoji aukšlė\n",
      "Paprastoji saulažuvė\n",
      "Paprastasis karšis\n",
      "Paprastasis ūsorius\n",
      "Paprastasis plakis\n",
      "Paprastasis\n",
      "Paprastasis skersasnukis\n",
      "Paprastasis gružlys\n",
      "Europinis šapalas\n",
      "Paprastoji meknė\n",
      "Paprastasis strepetys\n",
      "Ežerinė rainė\n",
      "Paprastoji rainė\n",
      "Paprastoji kartuolė\n",
      "Paprastoji raudė\n",
      "Paprastoji kuoja\n",
      "Salatis\n",
      "Šližys\n",
      "Paprastasis kirtiklis\n",
      "Šiaurinis auksaspalvis kirtiklis\n",
      "Paprastasis vijūnas\n",
      "Paprastasis kūjagalvis\n",
      "Raibapelekis kūjagalvis\n",
      "Europinė lydeka\n",
      "Devynspyglė dyglė\n",
      "Vėgėlė\n",
      "Seliava\n",
      "Ežerinis sykas\n",
      "Margasis upėtakis\n",
      "Kiršlys\n",
      "Paprastasis šamas\n",
      "Ukraininė nėgė\n",
      "Mažoji nėgė\n",
      "Upinė nėgė\n"
     ]
    }
   ],
   "source": [
    "for zuvis in flist:\n",
    "    print(zuvis)"
   ]
  },
  {
   "cell_type": "code",
   "execution_count": 8,
   "metadata": {},
   "outputs": [
    {
     "name": "stderr",
     "output_type": "stream",
     "text": [
      "[WDM] - ====== WebDriver manager ======\n",
      "[WDM] - Current google-chrome version is 89.0.4389\n",
      "[WDM] - Get LATEST driver version for 89.0.4389\n"
     ]
    },
    {
     "name": "stdout",
     "output_type": "stream",
     "text": [
      "\n",
      "\n"
     ]
    },
    {
     "name": "stderr",
     "output_type": "stream",
     "text": [
      "[WDM] - Driver [C:\\Users\\Vaidas\\.wdm\\drivers\\chromedriver\\win32\\89.0.4389.23\\chromedriver.exe] found in cache\n"
     ]
    },
    {
     "name": "stdout",
     "output_type": "stream",
     "text": [
      "Found: 100 search results. Extracting links from 0:100\n",
      "Found: 122 image links, looking for more ...\n",
      "Found: 312 search results. Extracting links from 100:312\n",
      "Found: 200 image links, done!\n",
      "SUCCESS - saved https://encrypted-tbn0.gstatic.com/images?q=tbn:ANd9GcTGf98BpG4Lj_f5BsFZiuOiVcdI3OD-p_C5ZA&usqp=CAU - as ./images\\lydeka\\0425acc303.jpg\n",
      "SUCCESS - saved https://encrypted-tbn0.gstatic.com/images?q=tbn:ANd9GcR7H2FmnzWK-oFOeCwc1JlXNppKKHWMGqTs3g&usqp=CAU - as ./images\\lydeka\\8f06caf8cf.jpg\n",
      "SUCCESS - saved https://encrypted-tbn0.gstatic.com/images?q=tbn:ANd9GcSOzfcHfi4zAxUJYj9jL1Bq3LyaofM1mkGQDA&usqp=CAU - as ./images\\lydeka\\d82bf0232e.jpg\n",
      "SUCCESS - saved https://encrypted-tbn0.gstatic.com/images?q=tbn:ANd9GcS8G05KsRuIG7x-HNKpLboHc78KAW3ukjz8oA&usqp=CAU - as ./images\\lydeka\\c4f846db72.jpg\n",
      "SUCCESS - saved https://encrypted-tbn0.gstatic.com/images?q=tbn:ANd9GcS7zHR0rGXVZ99LHdgFm99JavzIvVgvpQf0WA&usqp=CAU - as ./images\\lydeka\\d8fd847fa4.jpg\n",
      "SUCCESS - saved https://www.gaspadine.lt/uploads/modules/recipes/fullsize/3880.jpg - as ./images\\lydeka\\c7033bc8a6.jpg\n",
      "SUCCESS - saved https://www.lrt.lt/img/2015/04/21/78241-630076-393x221.jpg - as ./images\\lydeka\\d57398487b.jpg\n",
      "SUCCESS - saved https://encrypted-tbn0.gstatic.com/images?q=tbn:ANd9GcTSkVzfVZSpA3YGaR9O8jCpqWuSwmCpdRD9IA&usqp=CAU - as ./images\\lydeka\\c28ac23f7f.jpg\n",
      "SUCCESS - saved https://encrypted-tbn0.gstatic.com/images?q=tbn:ANd9GcSafiqkuaUuekGm8ppowWc6qqJ8fVNkggQOOA&usqp=CAU - as ./images\\lydeka\\0d97235629.jpg\n",
      "SUCCESS - saved https://encrypted-tbn0.gstatic.com/images?q=tbn:ANd9GcR7NkseVcstsqhpEJ5K4QJnjVOoN5dOB1Dg4w&usqp=CAU - as ./images\\lydeka\\624c0f3ebe.jpg\n",
      "SUCCESS - saved https://encrypted-tbn0.gstatic.com/images?q=tbn:ANd9GcTwa9aE628YOwWbBvx5zg4OO7RrRjEElYgwWQ&usqp=CAU - as ./images\\lydeka\\88e279e644.jpg\n",
      "SUCCESS - saved https://bulviukose.lt/wp-content/uploads/2013/08/0041.jpg - as ./images\\lydeka\\7ad57dc502.jpg\n",
      "SUCCESS - saved https://encrypted-tbn0.gstatic.com/images?q=tbn:ANd9GcS9zQV_0jhyXz4L5kg1zLbU3kp-PAMOgETlBQ&usqp=CAU - as ./images\\lydeka\\ad8b6d99a5.jpg\n",
      "SUCCESS - saved https://worldrecipes.eu/storage/41310/conversions/darzovemis-ir-lasisa-idaryta-lydeka-thumb.jpg - as ./images\\lydeka\\4610715999.jpg\n",
      "SUCCESS - saved https://encrypted-tbn0.gstatic.com/images?q=tbn:ANd9GcQbvq4lUC7CjI40mukbV6rT4WAN1InKf4DeeQ&usqp=CAU - as ./images\\lydeka\\368e5bc0ef.jpg\n",
      "SUCCESS - saved https://lt.food-and-recipes.com/content/12/12163/1037fdae6923627c095968b4473e8492.jpg - as ./images\\lydeka\\70d3e435e3.jpg\n",
      "SUCCESS - saved https://encrypted-tbn0.gstatic.com/images?q=tbn:ANd9GcRMmZhySceGRo02EX6rey9L-0cLqbARSV47RQ&usqp=CAU - as ./images\\lydeka\\bc45703452.jpg\n",
      "SUCCESS - saved https://encrypted-tbn0.gstatic.com/images?q=tbn:ANd9GcSnw7Miy9pgPSxZ0G0P1aD2e1moPBlv28Uo6A&usqp=CAU - as ./images\\lydeka\\4ae99996bc.jpg\n",
      "SUCCESS - saved https://encrypted-tbn0.gstatic.com/images?q=tbn:ANd9GcQIfnuu62imAB-kmlneUi1SERsErd4aGMiREQ&usqp=CAU - as ./images\\lydeka\\c69a05b07e.jpg\n",
      "SUCCESS - saved https://encrypted-tbn0.gstatic.com/images?q=tbn:ANd9GcSPYddHiDcsr7E4SKowi7cXQ33JvU-bZR3b5g&usqp=CAU - as ./images\\lydeka\\0907b6fa86.jpg\n",
      "SUCCESS - saved https://encrypted-tbn0.gstatic.com/images?q=tbn:ANd9GcSgzmnVVtzoNXWlBEpRo7EQqfg3TBTh5DTttw&usqp=CAU - as ./images\\lydeka\\3a95d0373c.jpg\n",
      "SUCCESS - saved https://encrypted-tbn0.gstatic.com/images?q=tbn:ANd9GcS2FH9rBcE7ZIn9pvlC8N9gTq__smFMrxh-YQ&usqp=CAU - as ./images\\lydeka\\052b9cf7e9.jpg\n",
      "SUCCESS - saved https://encrypted-tbn0.gstatic.com/images?q=tbn:ANd9GcR8EUqr5uc3feXIYRywzpm-tofXNmUiFgIduA&usqp=CAU - as ./images\\lydeka\\b082b9e435.jpg\n",
      "SUCCESS - saved https://gamtosvaikis.lt/wp-content/uploads/2019/01/51505976_598492497291890_3444128699794849792_n.jpg - as ./images\\lydeka\\b234848e21.jpg\n",
      "SUCCESS - saved https://encrypted-tbn0.gstatic.com/images?q=tbn:ANd9GcQH8Oz0nmYKHZG0Vvm7k6DsyiVNLJBCDUZSig&usqp=CAU - as ./images\\lydeka\\45b345f4df.jpg\n",
      "SUCCESS - saved https://encrypted-tbn0.gstatic.com/images?q=tbn:ANd9GcRWtMU1YK0zeyMLNXgy_RJ6eFhsApWC01QQEg&usqp=CAU - as ./images\\lydeka\\d73e277c73.jpg\n",
      "SUCCESS - saved https://encrypted-tbn0.gstatic.com/images?q=tbn:ANd9GcTRZF4c2WIWj7f9eBu8X-137YMDrOmcnek-JQ&usqp=CAU - as ./images\\lydeka\\16553f2450.jpg\n",
      "SUCCESS - saved https://encrypted-tbn0.gstatic.com/images?q=tbn:ANd9GcSGxMIK8BwIrkFagcnx9Wa5phjA102xDfaaDA&usqp=CAU - as ./images\\lydeka\\8be62b389d.jpg\n",
      "ERROR - Could not save https://aina.lt/wp-content/uploads/2018/03/lydeka.jpg - cannot identify image file <_io.BytesIO object at 0x000001D09B63C180>\n",
      "SUCCESS - saved https://encrypted-tbn0.gstatic.com/images?q=tbn:ANd9GcR6635uklT0EULfoge4fSOsA4IdSQj4zUSFWQ&usqp=CAU - as ./images\\lydeka\\51bb79a848.jpg\n",
      "SUCCESS - saved https://encrypted-tbn0.gstatic.com/images?q=tbn:ANd9GcSwyurf-j1Nd_TvRon1H9qfoU2kpvpDlapWeQ&usqp=CAU - as ./images\\lydeka\\7362696ea7.jpg\n",
      "SUCCESS - saved https://encrypted-tbn0.gstatic.com/images?q=tbn:ANd9GcS2YYyaSUkZIquhRnXMmF3_kAh0mfxidPSDmA&usqp=CAU - as ./images\\lydeka\\9db688817e.jpg\n",
      "SUCCESS - saved https://g2.dcdn.lt/images/pix/lietuvaicio-laimikis-milziniska-lydeka-64715041.jpg - as ./images\\lydeka\\89f552510b.jpg\n",
      "SUCCESS - saved https://www.sulieknek.lt/wp-content/uploads/2020/05/Zuvis_JurosLydeka_MelynasKopustas.jpg - as ./images\\lydeka\\27c3ce2cbe.jpg\n",
      "SUCCESS - saved https://encrypted-tbn0.gstatic.com/images?q=tbn:ANd9GcSr5eMGh5Ry0RCWCeDkKohFfoQpL_rOp91QSg&usqp=CAU - as ./images\\lydeka\\6f92fe1ad9.jpg\n",
      "SUCCESS - saved https://encrypted-tbn0.gstatic.com/images?q=tbn:ANd9GcREWv4iJGZyjTeHnlqSPZEv6b2nk3O6PfKjXQ&usqp=CAU - as ./images\\lydeka\\37570faa6c.jpg\n",
      "SUCCESS - saved https://encrypted-tbn0.gstatic.com/images?q=tbn:ANd9GcQBImI34h9e5v2Nx49_S9zA0gmXC_K_m_OP-w&usqp=CAU - as ./images\\lydeka\\6048358964.jpg\n",
      "SUCCESS - saved https://www.kimba.lt/media/cache/catch_picture_496/uploads/images/119/92e236136c89333279e7ce2b29c2a75507b29670.jpeg - as ./images\\lydeka\\fc36898075.jpg\n",
      "ERROR - Could not save http://karpiuauginimas.eu/wp-content/uploads/2015/04/lydeka-300x225.jpg - cannot identify image file <_io.BytesIO object at 0x000001D09B63C180>\n",
      "SUCCESS - saved https://upload.wikimedia.org/wikipedia/commons/thumb/5/5c/Tautvydas_Lydeka.jpg/440px-Tautvydas_Lydeka.jpg - as ./images\\lydeka\\32d585e02c.jpg\n",
      "SUCCESS - saved https://encrypted-tbn0.gstatic.com/images?q=tbn:ANd9GcRGnsO7TVi8pEpmJ8oJANiULhbkgI8CeAovIQ&usqp=CAU - as ./images\\lydeka\\e7725a8de6.jpg\n",
      "SUCCESS - saved https://encrypted-tbn0.gstatic.com/images?q=tbn:ANd9GcRIHXN36xXw0QSBa1P4PqIlU9GORHN9bpCRGQ&usqp=CAU - as ./images\\lydeka\\83822a135b.jpg\n",
      "SUCCESS - saved https://i.gr-assets.com/images/S/compressed.photo.goodreads.com/books/1389445867l/20510976.jpg - as ./images\\lydeka\\0cc6a795a7.jpg\n",
      "ERROR - Could not save http://www.sirvinta.net/wp-content/uploads/bfi_thumb/lydeka-5ypn7nwperr8qzjbrrc6pdzmg5zf6vwn302h2g2i29s.jpg - cannot identify image file <_io.BytesIO object at 0x000001D09C783EF0>\n",
      "SUCCESS - saved https://encrypted-tbn0.gstatic.com/images?q=tbn:ANd9GcRPCUWc4lzc3CNbRdCakH9-iHgi04rRCPU6gA&usqp=CAU - as ./images\\lydeka\\d1d5bec3ba.jpg\n",
      "SUCCESS - saved https://encrypted-tbn0.gstatic.com/images?q=tbn:ANd9GcQnyr7BZ_LGPMSuT65kOGZ81LRiMd4fFqenTg&usqp=CAU - as ./images\\lydeka\\e972112e1a.jpg\n",
      "SUCCESS - saved https://encrypted-tbn0.gstatic.com/images?q=tbn:ANd9GcSZE85HUBsNkkmEQXRBryK1r5S0NQNL2w2G8w&usqp=CAU - as ./images\\lydeka\\9108539e6b.jpg\n",
      "SUCCESS - saved https://s2.15min.lt/static/cache/ODgweDU4MCwsNjE2MzUwLG9yaWdpbmFsLCxpZD03NjExMDMmZGF0ZT0yMDEzJTJGMDMlMkYyMCwxNTc5MDA1Mjc2/idaryta-lydeka-5149c3687f00f.jpg - as ./images\\lydeka\\8e596f25e3.jpg\n",
      "SUCCESS - saved https://encrypted-tbn0.gstatic.com/images?q=tbn:ANd9GcQSjYGkhkQ38dWOsv1MVTkqKNpdYDOLSdfeGQ&usqp=CAU - as ./images\\lydeka\\7752efbb7c.jpg\n",
      "SUCCESS - saved https://encrypted-tbn0.gstatic.com/images?q=tbn:ANd9GcSWfnZ6WLeQ_vYCeLQaWvkuBhCDcUYqxUTGUQ&usqp=CAU - as ./images\\lydeka\\5afe84f9a0.jpg\n",
      "SUCCESS - saved https://lh3.googleusercontent.com/proxy/Z4sGnuvBHjFprl_z6QbHiA59QySc_DF18WJCqiddoS1434LhVZCqxu6kHDkOlaNoKzoRaNcTzpKi64-igo5kuIc8xskZb-m-R2EGLoUgEZ3dpbE4PQ59lSKWrnqtUXQF3MPQQ0W7kT4FJTVfMM4zrA - as ./images\\lydeka\\c4f2ce75fa.jpg\n",
      "SUCCESS - saved https://encrypted-tbn0.gstatic.com/images?q=tbn:ANd9GcRue6lek_FqeW12dAbATZGID-IPckOS446FTg&usqp=CAU - as ./images\\lydeka\\97bc853f64.jpg\n",
      "SUCCESS - saved https://www.gerarukykla.lt/image/data/ingos_receptai/rukyta_lydeka/rukyta-zuvis-lydeka-ingos-receptai-1.jpg - as ./images\\lydeka\\d482caf54e.jpg\n"
     ]
    },
    {
     "name": "stdout",
     "output_type": "stream",
     "text": [
      "SUCCESS - saved http://s2.thingpic.com/images/wC/1ZxnP5HBWn3QMfEt5uGe5DCB.jpeg - as ./images\\lydeka\\892d861838.jpg\n",
      "SUCCESS - saved https://encrypted-tbn0.gstatic.com/images?q=tbn:ANd9GcRgR0LwXhsVJBeCdhoiseTPyY98rSYKhm9W2g&usqp=CAU - as ./images\\lydeka\\df78776a08.jpg\n",
      "SUCCESS - saved https://encrypted-tbn0.gstatic.com/images?q=tbn:ANd9GcRI37leTK_W5iYNcRAriQ7tx7ubobv6AsmvaA&usqp=CAU - as ./images\\lydeka\\423c558b11.jpg\n",
      "SUCCESS - saved https://encrypted-tbn0.gstatic.com/images?q=tbn:ANd9GcSsipcfblUhcxhzdZf8frtFxAgf38tu0b6tyw&usqp=CAU - as ./images\\lydeka\\f7f378826d.jpg\n",
      "SUCCESS - saved https://encrypted-tbn0.gstatic.com/images?q=tbn:ANd9GcSt_obIpL1LqF19UVv6etqaiqGEBvbb15d03g&usqp=CAU - as ./images\\lydeka\\c18949d21e.jpg\n",
      "SUCCESS - saved https://lh3.googleusercontent.com/proxy/QqcgqJfnqwt0am8EmbC2LdtLEGuY3R-we9hKTuLb1TzSxAtYNWccCSBZbqe0WY03dxME5zDIdRtAd-cTZu6kysqe_aqtjMS2CIb-1dFG_kqh4Wmak-rMLPtrIHqUIIE - as ./images\\lydeka\\dfc766e6a5.jpg\n",
      "SUCCESS - saved https://encrypted-tbn0.gstatic.com/images?q=tbn:ANd9GcTsk1Hu-sAGL0N-8uDsRMT6YnIFDKQBsYdZMg&usqp=CAU - as ./images\\lydeka\\6ce1274044.jpg\n",
      "SUCCESS - saved https://encrypted-tbn0.gstatic.com/images?q=tbn:ANd9GcR4hNawSibIK8_RIf0cxttHiqINNbkMSeEy3g&usqp=CAU - as ./images\\lydeka\\a60afdd3fb.jpg\n",
      "SUCCESS - saved https://lh3.googleusercontent.com/proxy/065ipwjck6yIpYKHxyZT4Su7VA_iuVtyOFrhrX7ypY1CjBpOh5jwZWQhrSc_Xk0bzB91q3N3puhbvgXhk_UiQpneEXNQ3HyOQGfckb1GSLWZWkbFpCtxxxXJusQ75XswIMs6Ov9iUKVrPsHk - as ./images\\lydeka\\0350ea336a.jpg\n",
      "ERROR - Could not download https://www.sanitex.eu/o/out/pictures/generated/product/1/380_340_75/barcodes_sa__v52s27j.jpg - HTTPSConnectionPool(host='www.sanitex.eu', port=443): Max retries exceeded with url: /o/out/pictures/generated/product/1/380_340_75/barcodes_sa__v52s27j.jpg (Caused by SSLError(SSLCertVerificationError(1, '[SSL: CERTIFICATE_VERIFY_FAILED] certificate verify failed: unable to get local issuer certificate (_ssl.c:1123)')))\n",
      "ERROR - Could not save https://www.sanitex.eu/o/out/pictures/generated/product/1/380_340_75/barcodes_sa__v52s27j.jpg - local variable 'image_content' referenced before assignment\n",
      "SUCCESS - saved https://encrypted-tbn0.gstatic.com/images?q=tbn:ANd9GcQz_Ea9DECDthckC2RRgk1kTJDU43bwq-FNXg&usqp=CAU - as ./images\\lydeka\\fa80f2d5ed.jpg\n",
      "SUCCESS - saved https://encrypted-tbn0.gstatic.com/images?q=tbn:ANd9GcT3kFVJR_M2ZjXQ34GhSEqMSoYanStTGYAE_g&usqp=CAU - as ./images\\lydeka\\63c69454e2.jpg\n",
      "SUCCESS - saved https://encrypted-tbn0.gstatic.com/images?q=tbn:ANd9GcQ-fZvkv9llwKuETOod7tBIf0MYTPDa9YjIQg&usqp=CAU - as ./images\\lydeka\\e402b1a6d0.jpg\n",
      "SUCCESS - saved https://encrypted-tbn0.gstatic.com/images?q=tbn:ANd9GcQph1RPAIkgFceJ7W7SA4YxQ2wwZ_2XjGFE-w&usqp=CAU - as ./images\\lydeka\\9446c72aee.jpg\n",
      "SUCCESS - saved https://zvejyba.eu/image/cache/catalog/Dovanos/Pliu%C5%A1in%C4%97s%20%C5%BEuvys/pagalvele-minkstas-pliusinis-suvenyras-lydeka-45cm-700x700.JPG - as ./images\\lydeka\\f9620edf65.jpg\n",
      "SUCCESS - saved https://i.pinimg.com/originals/37/98/f9/3798f9f87fcf2d1b9d1356bc252b6dd4.jpg - as ./images\\lydeka\\7611da0bf0.jpg\n",
      "SUCCESS - saved https://encrypted-tbn0.gstatic.com/images?q=tbn:ANd9GcRm1nSKo4HwkbZ-C3F9tB_vqEZ4dRm_2NnSdA&usqp=CAU - as ./images\\lydeka\\d5fb80c584.jpg\n",
      "SUCCESS - saved https://encrypted-tbn0.gstatic.com/images?q=tbn:ANd9GcSIpjV2_o2slkOklZuWiaetyB13iYWSJWt2qg&usqp=CAU - as ./images\\lydeka\\6772ba3778.jpg\n",
      "SUCCESS - saved https://liberalai.lt/wp-content/uploads/2020/09/IMG_0047-Edit-768x512.jpg - as ./images\\lydeka\\1063eee260.jpg\n",
      "SUCCESS - saved https://www.lrt.lt/img/2021/02/01/817996-783830-756x425.jpg - as ./images\\lydeka\\32937491c0.jpg\n",
      "SUCCESS - saved https://encrypted-tbn0.gstatic.com/images?q=tbn:ANd9GcSmYfpThvCz4dSzGzgtwsgk416NVckEL7vzFw&usqp=CAU - as ./images\\lydeka\\de456eeaf4.jpg\n",
      "SUCCESS - saved https://encrypted-tbn0.gstatic.com/images?q=tbn:ANd9GcQxDKIZX151vyOa5A0V9s_M3eqIgzEkDm2F1w&usqp=CAU - as ./images\\lydeka\\0066ee7e40.jpg\n",
      "SUCCESS - saved https://lt.fresh-beautiful-style.com/images/4/4805/71f2cd931198a04fedf41c366bfe6e1f.jpg - as ./images\\lydeka\\51a55a2bc5.jpg\n",
      "SUCCESS - saved https://encrypted-tbn0.gstatic.com/images?q=tbn:ANd9GcRAtuBZtxG20d9t6R-YUB6x3L203bLn1k5m8w&usqp=CAU - as ./images\\lydeka\\bc828c799f.jpg\n",
      "SUCCESS - saved https://encrypted-tbn0.gstatic.com/images?q=tbn:ANd9GcSWn3lYONEb_jT60oT-wk5aDlgyPblkFn1IYA&usqp=CAU - as ./images\\lydeka\\787a11fb46.jpg\n",
      "SUCCESS - saved https://www.grokiskis.lt/wp-content/uploads/2016/06/13173924_1126698570684287_4297550845211418459_n.jpg - as ./images\\lydeka\\e040e8405e.jpg\n",
      "SUCCESS - saved https://lh3.googleusercontent.com/proxy/bIR6EqrwPf5UMJerahkmF_6Qcx4D2Q5lCFl5vl0XnXpAxhMAizIgZ4rauDkQGug97HYVHzNl8mNJoXuDWu8KapDYc0V-AvWxkXgrlq7OA0uDSuQa - as ./images\\lydeka\\b5343d5222.jpg\n",
      "SUCCESS - saved https://www.vle.lt/tmp/vle-images/15132_2.jpg - as ./images\\lydeka\\bb0ba23f72.jpg\n",
      "SUCCESS - saved https://encrypted-tbn0.gstatic.com/images?q=tbn:ANd9GcQ5KFJARZ1rsqk29NUBCCfHuda76kEyWAMybQ&usqp=CAU - as ./images\\lydeka\\52aedf903f.jpg\n",
      "SUCCESS - saved https://i.ytimg.com/vi/922qA4tH6uU/maxresdefault.jpg - as ./images\\lydeka\\44ddd4c126.jpg\n",
      "SUCCESS - saved https://encrypted-tbn0.gstatic.com/images?q=tbn:ANd9GcRU7b2eONPeYLrFFfVcpaqPbYGFg1mE9-JgWQ&usqp=CAU - as ./images\\lydeka\\139807c4ba.jpg\n",
      "SUCCESS - saved https://www.medziok-zvejok.lt/images/uploader/wi/wildzone-pinigine-su-lydeka-1.jpg - as ./images\\lydeka\\3169ec0553.jpg\n",
      "SUCCESS - saved https://upload.wikimedia.org/wikipedia/commons/thumb/c/c5/Esox_lucius1.jpg/1200px-Esox_lucius1.jpg - as ./images\\lydeka\\e2aea63b46.jpg\n",
      "SUCCESS - saved https://live.staticflickr.com/7848/46619422684_ac412d8dd2_b.jpg - as ./images\\lydeka\\923ce05e4d.jpg\n",
      "SUCCESS - saved https://i.ytimg.com/vi/nS50MYaHEzU/maxresdefault.jpg - as ./images\\lydeka\\378570279c.jpg\n",
      "SUCCESS - saved https://upload.wikimedia.org/wikipedia/commons/thumb/d/db/Brochet_Luc_Viatour.jpg/250px-Brochet_Luc_Viatour.jpg - as ./images\\lydeka\\04ae54400a.jpg\n",
      "SUCCESS - saved https://lt.food-of-dream.com/content/2/2377/3b6636c20701b84a50e14178c1e37dcb.jpg - as ./images\\lydeka\\5427d4d9a8.jpg\n",
      "ERROR - Could not save https://www.mignalina.lt/wp-content/uploads/2016/03/06/images_2016_03_25_310_Lydeka.jpg - cannot identify image file <_io.BytesIO object at 0x000001D09C6CF5E0>\n",
      "SUCCESS - saved https://encrypted-tbn0.gstatic.com/images?q=tbn:ANd9GcQJAi-PdIKn7_kZ-tdzAdlTpfBL13NtCEuHAg&usqp=CAU - as ./images\\lydeka\\242fb8c136.jpg\n",
      "SUCCESS - saved https://encrypted-tbn0.gstatic.com/images?q=tbn:ANd9GcQJFZeDl6NXhRDXyarMSlWgd_IEgbep0h6NHw&usqp=CAU - as ./images\\lydeka\\42b7e1a6dc.jpg\n",
      "SUCCESS - saved https://encrypted-tbn0.gstatic.com/images?q=tbn:ANd9GcSRr3NKDgHgedcuRtSAN9kGIGodpB7qDqOxRg&usqp=CAU - as ./images\\lydeka\\564ffc7d71.jpg\n",
      "SUCCESS - saved https://www.gaspadine.lt/uploads/modules/recipes/ingredients/thumb250/308.jpg - as ./images\\lydeka\\2a799281ac.jpg\n",
      "SUCCESS - saved https://lh3.googleusercontent.com/proxy/AlA3Sn-X4q5PoZ518HCD5qklY79wjwHEAED5vWS4FK3g85JKZlJVfVamwduDT2n9wyRwHcGABpJDfAjCyVNJR868VMN9GCLL-2GN_D_0AsqXgJruf9bLayWhG_vKEn162w749gOC9ZILFQo - as ./images\\lydeka\\2326307a31.jpg\n",
      "SUCCESS - saved https://encrypted-tbn0.gstatic.com/images?q=tbn:ANd9GcSwKUpvyzhzjis_aAcifreQBK3YZamkGk5ejg&usqp=CAU - as ./images\\lydeka\\27cd277362.jpg\n",
      "SUCCESS - saved https://www.euroleague.net/rs/6xwuoa7rftg4o8fl/c4974b14-d249-46d4-9092-0e470e8d733d/8f7/filename/c49.jpg - as ./images\\lydeka\\552a5ece93.jpg\n",
      "SUCCESS - saved https://www.ve.lt/uploads/img/catalog/1/936/651/gamtosaugininkaiskelbiaakcijalydeka2013.jpg - as ./images\\lydeka\\49ae194cac.jpg\n",
      "SUCCESS - saved https://m.media-amazon.com/images/I/71nmklpEI3L._SS500_.jpg - as ./images\\lydeka\\c9b58fef9e.jpg\n",
      "SUCCESS - saved https://media.lrytas.lt/images/2018/08/06/182807420-db79ba27-deac-4ad6-8cb9-d86585995c99.jpg - as ./images\\lydeka\\75d1271434.jpg\n",
      "SUCCESS - saved https://g1.dcdn.lt/images/pix/gediminas-svilpa-ir-jo-sugauta-lydeka-81093271.jpg - as ./images\\lydeka\\08f9f0064f.jpg\n",
      "SUCCESS - saved https://encrypted-tbn0.gstatic.com/images?q=tbn:ANd9GcSt6o8us_3vMvjYxQScYQy-O2_1CeaP2cFZ1Q&usqp=CAU - as ./images\\lydeka\\826ddef78e.jpg\n",
      "SUCCESS - saved https://www.ve.lt/uploads/img/catalog/1/1853/383/prasideda-aplinkos-apsaugos-akcija-lydeka-2021.jpg - as ./images\\lydeka\\ffd27676e8.jpg\n",
      "SUCCESS - saved http://velkiavimas.lt/wp-content/uploads/2014/06/lydeka-grazi.jpg - as ./images\\lydeka\\5a58e06eba.jpg\n"
     ]
    },
    {
     "name": "stdout",
     "output_type": "stream",
     "text": [
      "SUCCESS - saved https://upload.wikimedia.org/wikipedia/commons/thumb/b/b3/Esox_masquinongy.jpg/340px-Esox_masquinongy.jpg - as ./images\\lydeka\\a49c83ae47.jpg\n",
      "SUCCESS - saved https://encrypted-tbn0.gstatic.com/images?q=tbn:ANd9GcRN791o7NJdFKKgJfBiqwwzlGwF-wDaLMBnHA&usqp=CAU - as ./images\\lydeka\\9ecbdc82cb.jpg\n",
      "SUCCESS - saved https://encrypted-tbn0.gstatic.com/images?q=tbn:ANd9GcTSGP2UroYTWfbkHGmdaLQEZSrbm8qAo1Orsw&usqp=CAU - as ./images\\lydeka\\6e8d637d98.jpg\n",
      "SUCCESS - saved https://encrypted-tbn0.gstatic.com/images?q=tbn:ANd9GcQSkIA_V47QR3npnOG2dcUJTyU2vMHxwmNEVw&usqp=CAU - as ./images\\lydeka\\16d5e00c92.jpg\n",
      "SUCCESS - saved https://encrypted-tbn0.gstatic.com/images?q=tbn:ANd9GcQF7oIlgNkq3Ip10H9Ae2QcPveDyFjXyRtf-A&usqp=CAU - as ./images\\lydeka\\9f11a8b0b5.jpg\n",
      "SUCCESS - saved https://encrypted-tbn0.gstatic.com/images?q=tbn:ANd9GcRaDMZb19knOxa1U-tAEWca4lxiRF9DPyItlA&usqp=CAU - as ./images\\lydeka\\8830bb5d7e.jpg\n",
      "SUCCESS - saved https://encrypted-tbn0.gstatic.com/images?q=tbn:ANd9GcSi2DMuaP1vhWQ_mEZPzchHnlrm0JL5G-73Dg&usqp=CAU - as ./images\\lydeka\\e0ddfbcf9a.jpg\n",
      "SUCCESS - saved https://i1.wp.com/alytausgidas.lt/wp-content/uploads/2021/02/lyd1426_b2f3f78ae015ed798b092f16d672dcb4-rotated.jpg?fit=852%2C536&quality=100&strip=all&ssl=1 - as ./images\\lydeka\\97c8186c82.jpg\n",
      "SUCCESS - saved https://encrypted-tbn0.gstatic.com/images?q=tbn:ANd9GcSr_k1nBY057qH9MufdtR7zUCFmn8WfpWdM7Q&usqp=CAU - as ./images\\lydeka\\47560d531b.jpg\n",
      "SUCCESS - saved https://encrypted-tbn0.gstatic.com/images?q=tbn:ANd9GcSKG6YkVwGrrMTVbuPG8StiSmnOk4S7yY9k1Q&usqp=CAU - as ./images\\lydeka\\7410576439.jpg\n",
      "SUCCESS - saved https://encrypted-tbn0.gstatic.com/images?q=tbn:ANd9GcRHNQJ6ofTdhKjuCl_ysuZw-I9N0mhFAL3x3A&usqp=CAU - as ./images\\lydeka\\8e2c0add08.jpg\n",
      "SUCCESS - saved https://encrypted-tbn0.gstatic.com/images?q=tbn:ANd9GcSnjGXARWW8EgAfpjqtn4UgRQ4KatSGbofCMA&usqp=CAU - as ./images\\lydeka\\0b53e515b2.jpg\n",
      "SUCCESS - saved https://encrypted-tbn0.gstatic.com/images?q=tbn:ANd9GcR9GEx6K7pC88KHfm8uiwueQCASaqjL3sqQZA&usqp=CAU - as ./images\\lydeka\\358ad9431f.jpg\n",
      "ERROR - Could not save https://ehunt.lt/3014-tm_thickbox_default/zenkliukas-lydeka-93.jpg - cannot identify image file <_io.BytesIO object at 0x000001D09C6CF5E0>\n",
      "SUCCESS - saved https://www.sulieknek.lt/wp-content/uploads/2020/06/Zuvis_Lydeka_Keptuveje.jpg - as ./images\\lydeka\\2338ca02fe.jpg\n",
      "SUCCESS - saved https://encrypted-tbn0.gstatic.com/images?q=tbn:ANd9GcTrkQjlmcY_Q3dbRv8bFHOVqyLYpWhI66axcA&usqp=CAU - as ./images\\lydeka\\1c9e9b1eb9.jpg\n",
      "SUCCESS - saved https://encrypted-tbn0.gstatic.com/images?q=tbn:ANd9GcSUbQDsTbyRoT3t0T5c3iTVbWgXQf6FQqAbtg&usqp=CAU - as ./images\\lydeka\\6823a8ab22.jpg\n",
      "SUCCESS - saved https://i.ytimg.com/vi/HDhyaNERE7w/maxresdefault.jpg - as ./images\\lydeka\\5165e1522d.jpg\n",
      "SUCCESS - saved https://encrypted-tbn0.gstatic.com/images?q=tbn:ANd9GcRaI7y1OeEP0Is077A9ypTiTrRjWW7DPbgrvw&usqp=CAU - as ./images\\lydeka\\6379c7cc42.jpg\n",
      "SUCCESS - saved https://gamtosvaikis.lt/wp-content/uploads/2019/01/51352770_396780884462045_8424500801174503424_n.jpg - as ./images\\lydeka\\51affa3be5.jpg\n",
      "ERROR - Could not save http://valgo.me/wp-content/uploads/2020/04/kiek-kepti-lydeka.jpg - cannot identify image file <_io.BytesIO object at 0x000001D09C6CF5E0>\n",
      "SUCCESS - saved https://encrypted-tbn0.gstatic.com/images?q=tbn:ANd9GcT1BgNVVWuhGDa19Pg_BKdWTS4kSEKE3ITs3A&usqp=CAU - as ./images\\lydeka\\7e73966184.jpg\n",
      "SUCCESS - saved https://encrypted-tbn0.gstatic.com/images?q=tbn:ANd9GcQWQgezLETIDEj3vfOqE9ml2J_MSyETokRCeQ&usqp=CAU - as ./images\\lydeka\\77818741be.jpg\n",
      "SUCCESS - saved https://encrypted-tbn0.gstatic.com/images?q=tbn:ANd9GcSwQXiws7KxkBOgHMLyUnmXBK-r7AVt7eSieQ&usqp=CAU - as ./images\\lydeka\\3c5940106a.jpg\n",
      "SUCCESS - saved https://b2b.amona.lt/image/cache/data/Dovanos/pagalvele-minkstas-pliusinis-suvenyras-lydeka-700x700.jpg - as ./images\\lydeka\\4cf07e83c7.jpg\n",
      "SUCCESS - saved https://encrypted-tbn0.gstatic.com/images?q=tbn:ANd9GcQC4XHpeWAEsGNNSZnjiYgZBv8yRWRAf0VUkg&usqp=CAU - as ./images\\lydeka\\a94d19042a.jpg\n",
      "SUCCESS - saved https://www.gaspadine.lt/uploads/modules/recipes/fullsize/4178.jpg - as ./images\\lydeka\\cdacf3cb3f.jpg\n",
      "SUCCESS - saved https://straipsniai.lt/wp-content/uploads/9282-010.jpg - as ./images\\lydeka\\3cb6f1f7fd.jpg\n",
      "SUCCESS - saved https://encrypted-tbn0.gstatic.com/images?q=tbn:ANd9GcTAnCldEgQRrDtFNMEugoY4QWtJLjUN4t6Wyg&usqp=CAU - as ./images\\lydeka\\36dd734d45.jpg\n",
      "SUCCESS - saved https://encrypted-tbn0.gstatic.com/images?q=tbn:ANd9GcRsWci25ozb7B5QJfFRWlljvONfIhVQuvTMNw&usqp=CAU - as ./images\\lydeka\\6b34c277e1.jpg\n",
      "SUCCESS - saved https://encrypted-tbn0.gstatic.com/images?q=tbn:ANd9GcTEi7b3aOWMIEPxnrCxoeKDrdWiOW8AuHdrBg&usqp=CAU - as ./images\\lydeka\\c1cc27691f.jpg\n",
      "SUCCESS - saved https://encrypted-tbn0.gstatic.com/images?q=tbn:ANd9GcQDuMziNhu9q9EzJldfRgKDUNrEQEEpkXDlOg&usqp=CAU - as ./images\\lydeka\\3cd0704ad4.jpg\n",
      "SUCCESS - saved https://encrypted-tbn0.gstatic.com/images?q=tbn:ANd9GcSDXRx0YnaS_gKbi8E9rF0v6_o9kCO28lgB2g&usqp=CAU - as ./images\\lydeka\\ac798f405c.jpg\n",
      "SUCCESS - saved https://encrypted-tbn0.gstatic.com/images?q=tbn:ANd9GcRCZK40oS4xUWGxs6lRRQzFpTLpDlZFlXJZOg&usqp=CAU - as ./images\\lydeka\\580906a68c.jpg\n",
      "SUCCESS - saved https://encrypted-tbn0.gstatic.com/images?q=tbn:ANd9GcTJxIAWnGLg11vSsHlBzRsVTi0soQUF9iHszw&usqp=CAU - as ./images\\lydeka\\f5fc7b2dfe.jpg\n",
      "ERROR - Could not save https://aina.lt/wp-content/uploads/2017/04/lydeka.jpg - cannot identify image file <_io.BytesIO object at 0x000001D09B1281D0>\n",
      "SUCCESS - saved https://encrypted-tbn0.gstatic.com/images?q=tbn:ANd9GcQ3zaZyhFTrwUHbSAL2G375Q77gdkoYkaFsdA&usqp=CAU - as ./images\\lydeka\\a20bd2222b.jpg\n",
      "SUCCESS - saved https://www.gerablizge.lt/wp-content/uploads/2015/02/lydeka.jpg - as ./images\\lydeka\\004983f4b1.jpg\n",
      "SUCCESS - saved https://encrypted-tbn0.gstatic.com/images?q=tbn:ANd9GcTiErpU9B4llahZmkjvExmpBIg7kFD-t_5LLQ&usqp=CAU - as ./images\\lydeka\\2bdb754cce.jpg\n",
      "SUCCESS - saved https://encrypted-tbn0.gstatic.com/images?q=tbn:ANd9GcRZy_6QrcmpmuqtJciXfwT-75QeUFo9_KH3xQ&usqp=CAU - as ./images\\lydeka\\c4be1dd6e5.jpg\n",
      "SUCCESS - saved https://ragauk.one.lt/uploads/modules/recipes/one-fullsize/4483.jpg - as ./images\\lydeka\\236b87d0b7.jpg\n",
      "SUCCESS - saved https://lt.cook-and-food.com/images/114/114637/6d9733f77e15d6192f274d67a2065e89.jpg - as ./images\\lydeka\\306dbb375f.jpg\n",
      "SUCCESS - saved https://encrypted-tbn0.gstatic.com/images?q=tbn:ANd9GcSzK_ryOYR-McZRnldbbX4qDFK2FS7XbDd-ew&usqp=CAU - as ./images\\lydeka\\5ebee65039.jpg\n",
      "SUCCESS - saved https://encrypted-tbn0.gstatic.com/images?q=tbn:ANd9GcTRxgN4sOEaBsiz01yG18gzuE32XdkBr_rsIg&usqp=CAU - as ./images\\lydeka\\32636d70de.jpg\n",
      "SUCCESS - saved https://worldrecipes.eu/storage/64962/conversions/juros-lydeka-kepta-folijoje-thumb.jpg - as ./images\\lydeka\\38e8a0081d.jpg\n",
      "SUCCESS - saved https://encrypted-tbn0.gstatic.com/images?q=tbn:ANd9GcQVFWIs49fLhhKPC8aVeEpfXmgP7cL_cxPcMw&usqp=CAU - as ./images\\lydeka\\7a96f7b4d8.jpg\n",
      "SUCCESS - saved https://encrypted-tbn0.gstatic.com/images?q=tbn:ANd9GcR_ePwNQgRyIapCG2Bga00h23S5LVckWS5CGg&usqp=CAU - as ./images\\lydeka\\2e9e11b084.jpg\n",
      "SUCCESS - saved https://encrypted-tbn0.gstatic.com/images?q=tbn:ANd9GcS-q_JmS6h1MluVBO523kd2H-FYs3hNBFxRIA&usqp=CAU - as ./images\\lydeka\\ef1f4e8ada.jpg\n",
      "SUCCESS - saved https://encrypted-tbn0.gstatic.com/images?q=tbn:ANd9GcR8iWtkxoJDqdxG_j-S2JjjUFq2Yys0gg6xgw&usqp=CAU - as ./images\\lydeka\\4390199186.jpg\n",
      "SUCCESS - saved https://pilnipilvai.lt/4852-large_default/saldyta-argentinine-juros-lydeka-be-galvos-be-uodegos-200-400-5-4-kg.jpg - as ./images\\lydeka\\9bf91e4800.jpg\n",
      "SUCCESS - saved https://encrypted-tbn0.gstatic.com/images?q=tbn:ANd9GcS81MfCpsodimXw21D-hkI8ci-ZQDG9oUAKRw&usqp=CAU - as ./images\\lydeka\\a89655d2f8.jpg\n",
      "SUCCESS - saved https://encrypted-tbn0.gstatic.com/images?q=tbn:ANd9GcTVX-8saIiivZhIiUIneL6XJCS1ISe76aYSpg&usqp=CAU - as ./images\\lydeka\\8e3199db64.jpg\n",
      "SUCCESS - saved https://encrypted-tbn0.gstatic.com/images?q=tbn:ANd9GcQ7qThWQcyYmp88hCzrSb36flc_S1YAugHKkg&usqp=CAU - as ./images\\lydeka\\6150ea311e.jpg\n",
      "SUCCESS - saved https://encrypted-tbn0.gstatic.com/images?q=tbn:ANd9GcQlDi8Ezv0j_Vkxg_HG8dBSa8fZMWdcJkAXtQ&usqp=CAU - as ./images\\lydeka\\60da1ec2d8.jpg\n",
      "SUCCESS - saved https://encrypted-tbn0.gstatic.com/images?q=tbn:ANd9GcTES9FCZcKaVeI8nF0jV-BoKiFI1llZAZL82g&usqp=CAU - as ./images\\lydeka\\4464ff2f4c.jpg\n"
     ]
    },
    {
     "name": "stdout",
     "output_type": "stream",
     "text": [
      "SUCCESS - saved https://encrypted-tbn0.gstatic.com/images?q=tbn:ANd9GcQL6xMe9Ub_W6B--kjcQ34Xu5nKi-y7aixb_g&usqp=CAU - as ./images\\lydeka\\cf74dffe2d.jpg\n",
      "SUCCESS - saved https://encrypted-tbn0.gstatic.com/images?q=tbn:ANd9GcRh4Hj4ftPd95naAiOEnJ0TTKbALuf1Iffk-A&usqp=CAU - as ./images\\lydeka\\b4ec3a7d8e.jpg\n",
      "SUCCESS - saved https://encrypted-tbn0.gstatic.com/images?q=tbn:ANd9GcSk6rBtCkCaw8A-cv3NnJW3H-hzXV9oTxOQrg&usqp=CAU - as ./images\\lydeka\\463383b6d1.jpg\n",
      "SUCCESS - saved https://encrypted-tbn0.gstatic.com/images?q=tbn:ANd9GcRkwYUxT34OERhbF0S066556lvIE2WjlNVUAA&usqp=CAU - as ./images\\lydeka\\46b9458539.jpg\n",
      "SUCCESS - saved https://4.bp.blogspot.com/-6FGXcf86vmY/W-ZIeH0AIWI/AAAAAAAAilc/4LMVJfdzDT0hqar-l9hvv5ABa9byqFrhgCLcBGAs/s1600/krl%2B30%2Bb.jpg - as ./images\\lydeka\\53f9b723f4.jpg\n",
      "SUCCESS - saved https://encrypted-tbn0.gstatic.com/images?q=tbn:ANd9GcR_AYAkZBBMmGmthtfn_fu_gEbFWJMeZ1VdIw&usqp=CAU - as ./images\\lydeka\\7eb0dbd028.jpg\n",
      "SUCCESS - saved https://encrypted-tbn0.gstatic.com/images?q=tbn:ANd9GcTrsAw5orCWh78wQ5KjVJzkTrN4bAmKkscQRA&usqp=CAU - as ./images\\lydeka\\6f1ed0f7d2.jpg\n",
      "SUCCESS - saved https://encrypted-tbn0.gstatic.com/images?q=tbn:ANd9GcQuxwMTZ14fOJaFX7qJZyzE0lgbSce6IRymTA&usqp=CAU - as ./images\\lydeka\\c35599897c.jpg\n",
      "SUCCESS - saved https://encrypted-tbn0.gstatic.com/images?q=tbn:ANd9GcQGFbFKHILFPOpp9iOJjW7Z7Mzspset-tEVQA&usqp=CAU - as ./images\\lydeka\\9311f706d9.jpg\n",
      "SUCCESS - saved https://encrypted-tbn0.gstatic.com/images?q=tbn:ANd9GcSpDQ_ec4lRQzbgJGSvT3IovUsEpd2ZbEG8hQ&usqp=CAU - as ./images\\lydeka\\e58483b627.jpg\n",
      "SUCCESS - saved https://encrypted-tbn0.gstatic.com/images?q=tbn:ANd9GcTD65VgiJcAZ199YYI-i6Z7ODU8T0h7wbt8PA&usqp=CAU - as ./images\\lydeka\\eb5edee21c.jpg\n",
      "SUCCESS - saved https://lt.cook-and-food.com/images/114/114277/3b939b076716e19b1d62a295640279d8.jpg - as ./images\\lydeka\\42b9d48458.jpg\n",
      "SUCCESS - saved https://rimibaltic-res.cloudinary.com/image/upload/b_white,c_fit,f_auto,h_480,q_auto,w_480/d_ecommerce:backend-fallback.png/MAT_299373_KGM_LT - as ./images\\lydeka\\6dcfa8fd2e.jpg\n",
      "SUCCESS - saved https://worldrecipes.eu/storage/41327/conversions/farsiruota-lydeka-thumb.jpg - as ./images\\lydeka\\2bf4c42a0d.jpg\n",
      "SUCCESS - saved https://encrypted-tbn0.gstatic.com/images?q=tbn:ANd9GcRmjBiceiEhaeu6wpgRxG5kFyrJvAG-oiWP0w&usqp=CAU - as ./images\\lydeka\\e45004dee3.jpg\n",
      "SUCCESS - saved https://encrypted-tbn0.gstatic.com/images?q=tbn:ANd9GcTsM4hJTVQrENkHSup111ONA9ngYaf5IP0fFQ&usqp=CAU - as ./images\\lydeka\\1b6703af28.jpg\n",
      "SUCCESS - saved https://encrypted-tbn0.gstatic.com/images?q=tbn:ANd9GcR9yNEKj0_xM30eNs0ryuf51M22_WmUQ2On8A&usqp=CAU - as ./images\\lydeka\\77b0545896.jpg\n",
      "SUCCESS - saved https://encrypted-tbn0.gstatic.com/images?q=tbn:ANd9GcR7r6SWavWDFzDejzva7WI2-XHkRoX4T6TRxw&usqp=CAU - as ./images\\lydeka\\b2e437adcc.jpg\n",
      "SUCCESS - saved https://encrypted-tbn0.gstatic.com/images?q=tbn:ANd9GcRrf4hQl_A-kV5A3ljv9CtSz5zTAs-Qqh2DEA&usqp=CAU - as ./images\\lydeka\\c8afbfb453.jpg\n",
      "SUCCESS - saved https://encrypted-tbn0.gstatic.com/images?q=tbn:ANd9GcTbhorXb7BuG1HLtW_VTvgKETTov9PCWJoWlA&usqp=CAU - as ./images\\lydeka\\5b39dae4a9.jpg\n",
      "SUCCESS - saved https://encrypted-tbn0.gstatic.com/images?q=tbn:ANd9GcQE3iL0XF5wU7plGDvAy1o1SxG4aQAi3FR1Fw&usqp=CAU - as ./images\\lydeka\\8cec6755fe.jpg\n",
      "SUCCESS - saved https://media.lrytas.lt/images/2016/10/07/1493046644108_2290777_1440x960_1493046645212.jpg - as ./images\\lydeka\\44f968269a.jpg\n",
      "SUCCESS - saved https://encrypted-tbn0.gstatic.com/images?q=tbn:ANd9GcTKruWJDI0KZd3M6w83BCezwkFTva5rpPyJYA&usqp=CAU - as ./images\\lydeka\\e43b95c17d.jpg\n",
      "SUCCESS - saved https://encrypted-tbn0.gstatic.com/images?q=tbn:ANd9GcSz6uGA8wsgffz6pA547G5eV7NVDQitpRjATw&usqp=CAU - as ./images\\lydeka\\87950cfeca.jpg\n",
      "ERROR - Could not save https://romadaplius.lt/wp-content/uploads/2019/12/Pagalv%C4%97-Dovana-%C5%BDvejui-Pagalv%C4%97-Dovana-%C5%BDvejui-Lydeka-Romada-4.jpg - cannot identify image file <_io.BytesIO object at 0x000001D09B1281D0>\n",
      "SUCCESS - saved https://encrypted-tbn0.gstatic.com/images?q=tbn:ANd9GcT4YJfhS6p09EbRteaxy596HEPatuxZ1U_9hQ&usqp=CAU - as ./images\\lydeka\\1603accee7.jpg\n",
      "SUCCESS - saved https://lh3.googleusercontent.com/proxy/pYeXo8JyBL6YAJ_zRMGzqto2cv7nz3K5g9fbKLffLptHDA-y4AipTyLk7VNvkw2eWStSrI3fJ_r2yzJAgeXYBJ4t5YBeCfPqWfujdLWMKP_qgElJU2vNfOBEreVBUDHnCvzFD-iyoLTpO3zinELmQHmoX72MotKksVuT - as ./images\\lydeka\\08150387d8.jpg\n",
      "SUCCESS - saved https://encrypted-tbn0.gstatic.com/images?q=tbn:ANd9GcTMA8AHOSGCZXcWvMXb2_DQALwH1Jlpnd-iGg&usqp=CAU - as ./images\\lydeka\\84daab8196.jpg\n",
      "SUCCESS - saved https://encrypted-tbn0.gstatic.com/images?q=tbn:ANd9GcQCXokKIGgJPLwFwtXwKAQMYYd-yTX0_JFXog&usqp=CAU - as ./images\\lydeka\\bc2d32c8bc.jpg\n",
      "SUCCESS - saved https://encrypted-tbn0.gstatic.com/images?q=tbn:ANd9GcSScbACICQr71lBjkgjYRLBl7YACK7NzQC8wA&usqp=CAU - as ./images\\lydeka\\1842ddf7b1.jpg\n",
      "SUCCESS - saved https://www.agroeta.lt/sites/default/files/articles/1Popovas%20lydeka_Fotor_0.jpg - as ./images\\lydeka\\9fb7618efb.jpg\n",
      "SUCCESS - saved https://lh3.googleusercontent.com/proxy/6ZYWFYRC25uPwJMh-2dtGjQHktoB2I4aEg52ANgI-DyCZoPRZLPWol1IFoqzdDeVpkmRE5Ysdm7cSqxvnCq04cQ6vTvLvL3N2SywpyAyEGmrY-pOvfTZjiVrvg - as ./images\\lydeka\\b600c26571.jpg\n",
      "SUCCESS - saved https://encrypted-tbn0.gstatic.com/images?q=tbn:ANd9GcTy1KanxtAILCD1-5oQ0TGUV2xk_ZrzEFuoKA&usqp=CAU - as ./images\\lydeka\\7a08406115.jpg\n",
      "SUCCESS - saved https://encrypted-tbn0.gstatic.com/images?q=tbn:ANd9GcSucT0VyRCcCGiU3AmRFaM_7bWWr8iuWg_1YA&usqp=CAU - as ./images\\lydeka\\0460347714.jpg\n",
      "SUCCESS - saved https://encrypted-tbn0.gstatic.com/images?q=tbn:ANd9GcSKv86JwVpIdiNjFKLIN28MK541Tq3TkfQZuA&usqp=CAU - as ./images\\lydeka\\36d3d3a534.jpg\n",
      "SUCCESS - saved https://s2.15min.lt/images/photos/2011/04/21/original/1303373616lydeka75dsc09180.jpg - as ./images\\lydeka\\81420ed230.jpg\n",
      "SUCCESS - saved https://g1.dcdn.lt/images/pix/zvejo-sugauta-per-maza-lydeka-66889164.jpg - as ./images\\lydeka\\32f2809367.jpg\n",
      "SUCCESS - saved https://encrypted-tbn0.gstatic.com/images?q=tbn:ANd9GcSKcc029cpkhU95knQCoi86KgVWMh-lcMYo1w&usqp=CAU - as ./images\\lydeka\\0e65615499.jpg\n",
      "SUCCESS - saved https://encrypted-tbn0.gstatic.com/images?q=tbn:ANd9GcQ1MtM5rl__9_kUQATnB-2RPxS9VM55TU3AFg&usqp=CAU - as ./images\\lydeka\\f23aace55b.jpg\n",
      "SUCCESS - saved https://encrypted-tbn0.gstatic.com/images?q=tbn:ANd9GcQg6MMNGaJ6jZ85-ww0AoBsdnHuQogbwJLwGQ&usqp=CAU - as ./images\\lydeka\\e9f26cd7f6.jpg\n"
     ]
    }
   ],
   "source": [
    "search_and_download(search_term='lydeka',target_path='./images',number_images=200)"
   ]
  },
  {
   "cell_type": "code",
   "execution_count": null,
   "metadata": {},
   "outputs": [],
   "source": []
  },
  {
   "cell_type": "code",
   "execution_count": null,
   "metadata": {},
   "outputs": [],
   "source": []
  }
 ],
 "metadata": {
  "kernelspec": {
   "display_name": "Python 3",
   "language": "python",
   "name": "python3"
  },
  "language_info": {
   "codemirror_mode": {
    "name": "ipython",
    "version": 3
   },
   "file_extension": ".py",
   "mimetype": "text/x-python",
   "name": "python",
   "nbconvert_exporter": "python",
   "pygments_lexer": "ipython3",
   "version": "3.8.5"
  }
 },
 "nbformat": 4,
 "nbformat_minor": 4
}
